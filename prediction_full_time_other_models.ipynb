{
 "cells": [
  {
   "cell_type": "code",
   "execution_count": 91,
   "id": "6b1173b3",
   "metadata": {},
   "outputs": [],
   "source": [
    "#general package\n",
    "import pandas as pd\n",
    "import numpy as np\n",
    "import matplotlib.pyplot as plt\n",
    "import seaborn as sns\n",
    "\n",
    " \n",
    "from scipy.stats import pearsonr\n",
    "from scipy.stats import chi2_contingency\n",
    "from scipy.stats import ttest_ind\n",
    "from scipy import stats\n",
    "\n",
    "from sklearn.preprocessing import LabelEncoder, OneHotEncoder, StandardScaler\n",
    "from sklearn.model_selection import cross_val_score, KFold\n",
    "from sklearn.model_selection import StratifiedKFold\n",
    "from sklearn.feature_selection import RFECV\n",
    "from sklearn.model_selection import GridSearchCV\n",
    "\n",
    "from sklearn.linear_model import LogisticRegression\n",
    "from sklearn.neighbors import KNeighborsClassifier\n",
    "from sklearn.svm import SVC\n",
    "\n",
    "from sklearn.metrics import confusion_matrix, precision_score, recall_score, f1_score, accuracy_score\n",
    "from sklearn.metrics import classification_report\n",
    "\n",
    "import random\n",
    "import tensorflow as tf "
   ]
  },
  {
   "cell_type": "code",
   "execution_count": 92,
   "id": "fa7afd9c",
   "metadata": {},
   "outputs": [],
   "source": [
    "# historical full-time dataframe\n",
    "df_bat = pd.read_csv('/Users/quinne/Desktop/all_code/dissertation_dataset/halftime_encode_python.csv')\n",
    "df_bat\n",
    "\n",
    "columns_to_keep = ['Result', \"match_number\", \"team_code\", \"opponent_code\", \n",
    "                   \"gender\", 'season', 'home_advantage', 'venue_city_code',\n",
    "                   'avg_score', 'avg_win_rate', 'avg_wickets_out', 'last_match_result']\n",
    "df = df_bat[columns_to_keep]\n",
    "\n",
    "X_train = df.drop(\"Result\", axis=1)\n",
    "y_train = df['Result']"
   ]
  },
  {
   "cell_type": "code",
   "execution_count": 93,
   "id": "293aeecf",
   "metadata": {},
   "outputs": [
    {
     "data": {
      "text/html": [
       "<div>\n",
       "<style scoped>\n",
       "    .dataframe tbody tr th:only-of-type {\n",
       "        vertical-align: middle;\n",
       "    }\n",
       "\n",
       "    .dataframe tbody tr th {\n",
       "        vertical-align: top;\n",
       "    }\n",
       "\n",
       "    .dataframe thead th {\n",
       "        text-align: right;\n",
       "    }\n",
       "</style>\n",
       "<table border=\"1\" class=\"dataframe\">\n",
       "  <thead>\n",
       "    <tr style=\"text-align: right;\">\n",
       "      <th></th>\n",
       "      <th>match_number</th>\n",
       "      <th>team_code</th>\n",
       "      <th>opponent_code</th>\n",
       "      <th>gender</th>\n",
       "      <th>season</th>\n",
       "      <th>home_advantage</th>\n",
       "      <th>venue_city_code</th>\n",
       "      <th>avg_score</th>\n",
       "      <th>avg_win_rate</th>\n",
       "      <th>avg_wickets_out</th>\n",
       "      <th>last_match_result</th>\n",
       "    </tr>\n",
       "  </thead>\n",
       "  <tbody>\n",
       "    <tr>\n",
       "      <th>0</th>\n",
       "      <td>5</td>\n",
       "      <td>4</td>\n",
       "      <td>1</td>\n",
       "      <td>0</td>\n",
       "      <td>2021</td>\n",
       "      <td>0</td>\n",
       "      <td>1</td>\n",
       "      <td>139.0</td>\n",
       "      <td>1.0</td>\n",
       "      <td>5.0</td>\n",
       "      <td>1</td>\n",
       "    </tr>\n",
       "    <tr>\n",
       "      <th>1</th>\n",
       "      <td>6</td>\n",
       "      <td>0</td>\n",
       "      <td>2</td>\n",
       "      <td>0</td>\n",
       "      <td>2021</td>\n",
       "      <td>0</td>\n",
       "      <td>2</td>\n",
       "      <td>128.0</td>\n",
       "      <td>0.0</td>\n",
       "      <td>6.0</td>\n",
       "      <td>0</td>\n",
       "    </tr>\n",
       "    <tr>\n",
       "      <th>2</th>\n",
       "      <td>7</td>\n",
       "      <td>3</td>\n",
       "      <td>6</td>\n",
       "      <td>0</td>\n",
       "      <td>2021</td>\n",
       "      <td>0</td>\n",
       "      <td>6</td>\n",
       "      <td>131.0</td>\n",
       "      <td>1.0</td>\n",
       "      <td>4.0</td>\n",
       "      <td>1</td>\n",
       "    </tr>\n",
       "    <tr>\n",
       "      <th>3</th>\n",
       "      <td>8</td>\n",
       "      <td>7</td>\n",
       "      <td>5</td>\n",
       "      <td>0</td>\n",
       "      <td>2021</td>\n",
       "      <td>1</td>\n",
       "      <td>5</td>\n",
       "      <td>130.0</td>\n",
       "      <td>0.0</td>\n",
       "      <td>8.0</td>\n",
       "      <td>0</td>\n",
       "    </tr>\n",
       "    <tr>\n",
       "      <th>4</th>\n",
       "      <td>10</td>\n",
       "      <td>6</td>\n",
       "      <td>1</td>\n",
       "      <td>0</td>\n",
       "      <td>2021</td>\n",
       "      <td>0</td>\n",
       "      <td>1</td>\n",
       "      <td>116.0</td>\n",
       "      <td>0.0</td>\n",
       "      <td>7.0</td>\n",
       "      <td>0</td>\n",
       "    </tr>\n",
       "  </tbody>\n",
       "</table>\n",
       "</div>"
      ],
      "text/plain": [
       "   match_number  team_code  opponent_code  gender  season  home_advantage  \\\n",
       "0             5          4              1       0    2021               0   \n",
       "1             6          0              2       0    2021               0   \n",
       "2             7          3              6       0    2021               0   \n",
       "3             8          7              5       0    2021               1   \n",
       "4            10          6              1       0    2021               0   \n",
       "\n",
       "   venue_city_code  avg_score  avg_win_rate  avg_wickets_out  \\\n",
       "0                1      139.0           1.0              5.0   \n",
       "1                2      128.0           0.0              6.0   \n",
       "2                6      131.0           1.0              4.0   \n",
       "3                5      130.0           0.0              8.0   \n",
       "4                1      116.0           0.0              7.0   \n",
       "\n",
       "   last_match_result  \n",
       "0                  1  \n",
       "1                  0  \n",
       "2                  1  \n",
       "3                  0  \n",
       "4                  0  "
      ]
     },
     "execution_count": 93,
     "metadata": {},
     "output_type": "execute_result"
    }
   ],
   "source": [
    "X_train.head()"
   ]
  },
  {
   "cell_type": "code",
   "execution_count": 94,
   "id": "5642eff9",
   "metadata": {},
   "outputs": [
    {
     "data": {
      "text/plain": [
       "(115, 12)"
      ]
     },
     "execution_count": 94,
     "metadata": {},
     "output_type": "execute_result"
    }
   ],
   "source": [
    "df.shape"
   ]
  },
  {
   "cell_type": "code",
   "execution_count": 95,
   "id": "9fcaefee",
   "metadata": {},
   "outputs": [],
   "source": [
    "#new prediction dataset\n",
    "df_2023_full = pd.read_csv('/Users/quinne/Desktop/all_code/dissertation_dataset/prediction_set_encoding_fulltime_model.csv')"
   ]
  },
  {
   "cell_type": "code",
   "execution_count": 96,
   "id": "c1d6a31c",
   "metadata": {},
   "outputs": [
    {
     "data": {
      "text/plain": [
       "(58, 12)"
      ]
     },
     "execution_count": 96,
     "metadata": {},
     "output_type": "execute_result"
    }
   ],
   "source": [
    "df_2023_full.shape"
   ]
  },
  {
   "cell_type": "code",
   "execution_count": 97,
   "id": "aa744869",
   "metadata": {},
   "outputs": [],
   "source": [
    "X_new_season_full = df_2023_full.drop(\"Result\", axis=1)\n",
    "y_new_season_full = df_2023_full['Result']"
   ]
  },
  {
   "cell_type": "code",
   "execution_count": 98,
   "id": "e98b9d48",
   "metadata": {},
   "outputs": [
    {
     "data": {
      "text/html": [
       "<div>\n",
       "<style scoped>\n",
       "    .dataframe tbody tr th:only-of-type {\n",
       "        vertical-align: middle;\n",
       "    }\n",
       "\n",
       "    .dataframe tbody tr th {\n",
       "        vertical-align: top;\n",
       "    }\n",
       "\n",
       "    .dataframe thead th {\n",
       "        text-align: right;\n",
       "    }\n",
       "</style>\n",
       "<table border=\"1\" class=\"dataframe\">\n",
       "  <thead>\n",
       "    <tr style=\"text-align: right;\">\n",
       "      <th></th>\n",
       "      <th>match_number</th>\n",
       "      <th>team_code</th>\n",
       "      <th>opponent_code</th>\n",
       "      <th>gender</th>\n",
       "      <th>season</th>\n",
       "      <th>home_advantage</th>\n",
       "      <th>venue_city_code</th>\n",
       "      <th>avg_score</th>\n",
       "      <th>avg_win_rate</th>\n",
       "      <th>avg_wickets_out</th>\n",
       "      <th>last_match_result</th>\n",
       "    </tr>\n",
       "  </thead>\n",
       "  <tbody>\n",
       "    <tr>\n",
       "      <th>0</th>\n",
       "      <td>1</td>\n",
       "      <td>5</td>\n",
       "      <td>6</td>\n",
       "      <td>0</td>\n",
       "      <td>2023</td>\n",
       "      <td>0</td>\n",
       "      <td>6</td>\n",
       "      <td>121.941176</td>\n",
       "      <td>0.764706</td>\n",
       "      <td>5.000000</td>\n",
       "      <td>0</td>\n",
       "    </tr>\n",
       "    <tr>\n",
       "      <th>1</th>\n",
       "      <td>4</td>\n",
       "      <td>0</td>\n",
       "      <td>3</td>\n",
       "      <td>0</td>\n",
       "      <td>2023</td>\n",
       "      <td>0</td>\n",
       "      <td>3</td>\n",
       "      <td>124.533333</td>\n",
       "      <td>0.466667</td>\n",
       "      <td>6.400000</td>\n",
       "      <td>0</td>\n",
       "    </tr>\n",
       "    <tr>\n",
       "      <th>2</th>\n",
       "      <td>5</td>\n",
       "      <td>7</td>\n",
       "      <td>5</td>\n",
       "      <td>0</td>\n",
       "      <td>2023</td>\n",
       "      <td>0</td>\n",
       "      <td>5</td>\n",
       "      <td>118.857143</td>\n",
       "      <td>0.214286</td>\n",
       "      <td>6.785714</td>\n",
       "      <td>0</td>\n",
       "    </tr>\n",
       "    <tr>\n",
       "      <th>3</th>\n",
       "      <td>8</td>\n",
       "      <td>3</td>\n",
       "      <td>5</td>\n",
       "      <td>0</td>\n",
       "      <td>2023</td>\n",
       "      <td>0</td>\n",
       "      <td>5</td>\n",
       "      <td>128.428571</td>\n",
       "      <td>0.500000</td>\n",
       "      <td>5.000000</td>\n",
       "      <td>1</td>\n",
       "    </tr>\n",
       "    <tr>\n",
       "      <th>4</th>\n",
       "      <td>9</td>\n",
       "      <td>4</td>\n",
       "      <td>7</td>\n",
       "      <td>0</td>\n",
       "      <td>2023</td>\n",
       "      <td>1</td>\n",
       "      <td>7</td>\n",
       "      <td>118.437500</td>\n",
       "      <td>0.750000</td>\n",
       "      <td>4.687500</td>\n",
       "      <td>1</td>\n",
       "    </tr>\n",
       "  </tbody>\n",
       "</table>\n",
       "</div>"
      ],
      "text/plain": [
       "   match_number  team_code  opponent_code  gender  season  home_advantage  \\\n",
       "0             1          5              6       0    2023               0   \n",
       "1             4          0              3       0    2023               0   \n",
       "2             5          7              5       0    2023               0   \n",
       "3             8          3              5       0    2023               0   \n",
       "4             9          4              7       0    2023               1   \n",
       "\n",
       "   venue_city_code   avg_score  avg_win_rate  avg_wickets_out  \\\n",
       "0                6  121.941176      0.764706         5.000000   \n",
       "1                3  124.533333      0.466667         6.400000   \n",
       "2                5  118.857143      0.214286         6.785714   \n",
       "3                5  128.428571      0.500000         5.000000   \n",
       "4                7  118.437500      0.750000         4.687500   \n",
       "\n",
       "   last_match_result  \n",
       "0                  0  \n",
       "1                  0  \n",
       "2                  0  \n",
       "3                  1  \n",
       "4                  1  "
      ]
     },
     "execution_count": 98,
     "metadata": {},
     "output_type": "execute_result"
    }
   ],
   "source": [
    "X_new_season_full.head()"
   ]
  },
  {
   "cell_type": "markdown",
   "id": "7f940f0a",
   "metadata": {},
   "source": [
    "## Full-time models"
   ]
  },
  {
   "cell_type": "code",
   "execution_count": 99,
   "id": "24bdcfe3",
   "metadata": {},
   "outputs": [],
   "source": [
    "## Step 1: Feature scaling\n",
    "# Use the same scaler trained on the historical data\n",
    "scaler = StandardScaler()\n",
    "X_train_scaled = scaler.fit_transform(X_train)\n",
    "X_new_season_full_scaled = scaler.transform(X_new_season_full)  "
   ]
  },
  {
   "cell_type": "code",
   "execution_count": 100,
   "id": "f331e15a",
   "metadata": {},
   "outputs": [],
   "source": [
    "# Set random seeds\n",
    "np.random.seed(0)\n",
    "random.seed(0)\n",
    "tf.random.set_seed(0)"
   ]
  },
  {
   "cell_type": "markdown",
   "id": "31875ccb",
   "metadata": {},
   "source": [
    "### 1. KNN (K-Nearest Neighbors)"
   ]
  },
  {
   "cell_type": "code",
   "execution_count": 101,
   "id": "c65a4b29",
   "metadata": {},
   "outputs": [
    {
     "name": "stdout",
     "output_type": "stream",
     "text": [
      "Predicted Probabilities for KNN in 2023 new season:\n",
      "[0.5 0.5 0.3 0.4 0.6 0.5 0.3 0.5 0.7 0.6 0.6 0.5 0.4 0.6 0.6 0.4 0.4 0.6\n",
      " 0.3 0.5 0.6 0.5 0.3 0.4 0.6 0.7 0.6 0.5 0.4 0.6 0.5 0.5 0.6 0.5 0.6 0.5\n",
      " 0.4 0.7 0.3 0.5 0.3 0.5 0.5 0.4 0.3 0.5 0.5 0.5 0.4 0.5 0.6 0.6 0.3 0.6\n",
      " 0.4 0.3 0.3 0.3]\n"
     ]
    }
   ],
   "source": [
    "#Best parameters for KNN: {'metric': 'euclidean', 'n_neighbors': 10, 'weights': 'uniform'}\n",
    "\n",
    "# Train the model on historical data\n",
    "knn = KNeighborsClassifier(metric='euclidean', n_neighbors=10, weights='uniform')\n",
    "knn.fit(X_train_scaled, y_train)\n",
    "\n",
    "# Apply the model to the new season data\n",
    "y_prob_new_season_knn = knn.predict_proba(X_new_season_full_scaled)[:, 1]\n",
    "y_pred_new_season_knn = (y_prob_new_season_knn > 0.5).astype(int)\n",
    "\n",
    "print(\"Predicted Probabilities for KNN in 2023 new season:\")\n",
    "print(y_prob_new_season_knn)"
   ]
  },
  {
   "cell_type": "code",
   "execution_count": 102,
   "id": "4e5b03a0",
   "metadata": {},
   "outputs": [
    {
     "data": {
      "text/plain": [
       "array([0, 0, 0, 0, 1, 0, 0, 0, 1, 1, 1, 0, 0, 1, 1, 0, 0, 1, 0, 0, 1, 0,\n",
       "       0, 0, 1, 1, 1, 0, 0, 1, 0, 0, 1, 0, 1, 0, 0, 1, 0, 0, 0, 0, 0, 0,\n",
       "       0, 0, 0, 0, 0, 0, 1, 1, 0, 1, 0, 0, 0, 0])"
      ]
     },
     "execution_count": 102,
     "metadata": {},
     "output_type": "execute_result"
    }
   ],
   "source": [
    "y_pred_new_season_knn"
   ]
  },
  {
   "cell_type": "code",
   "execution_count": 103,
   "id": "70702c5f",
   "metadata": {},
   "outputs": [
    {
     "data": {
      "image/png": "[encoded data removed]",
      "text/plain": [
       "<Figure size 640x480 with 2 Axes>"
      ]
     },
     "metadata": {},
     "output_type": "display_data"
    },
    {
     "name": "stdout",
     "output_type": "stream",
     "text": [
      "Accuracy:\t0.500000\n",
      "F1-score:\t0.498659\n",
      "Precision:\t0.561111\n",
      "Recall:\t\t0.556628\n",
      "\n",
      "Classification performance:\n",
      "              precision    recall  f1-score   support\n",
      "\n",
      "           0       0.40      0.76      0.52        21\n",
      "           1       0.72      0.35      0.47        37\n",
      "\n",
      "    accuracy                           0.50        58\n",
      "   macro avg       0.56      0.56      0.50        58\n",
      "weighted avg       0.61      0.50      0.49        58\n",
      "\n"
     ]
    }
   ],
   "source": [
    "mat_knn = confusion_matrix(y_new_season_full, y_pred_new_season_knn)\n",
    "sns.heatmap(mat_knn.T, square=True, annot=True, fmt=\"d\", cmap=\"RdPu\")\n",
    "plt.xlabel(\"True label\")\n",
    "plt.ylabel(\"Predicted label\")\n",
    "plt.title(\"KNN\")\n",
    "plt.show()\n",
    "\n",
    "print(\"Accuracy:\\t%f\" % accuracy_score(y_new_season_full, y_pred_new_season_knn))\n",
    "print(\"F1-score:\\t%f\" % f1_score(y_new_season_full, y_pred_new_season_knn, average='macro'))\n",
    "print(\"Precision:\\t%f\" % precision_score(y_new_season_full, y_pred_new_season_knn, average='macro'))\n",
    "print(\"Recall:\\t\\t%f\" % recall_score(y_new_season_full, y_pred_new_season_knn, average='macro'))\n",
    "print(\"\\nClassification performance:\\n%s\" % classification_report(y_new_season_full, y_pred_new_season_knn))"
   ]
  },
  {
   "cell_type": "markdown",
   "id": "8269f200",
   "metadata": {},
   "source": [
    "### 2. SVM (Support Vector Machine) "
   ]
  },
  {
   "cell_type": "code",
   "execution_count": 104,
   "id": "4b15f71c",
   "metadata": {},
   "outputs": [
    {
     "name": "stdout",
     "output_type": "stream",
     "text": [
      "Predicted Probabilities for SVM in 2023 season:\n",
      "[0.4834937  0.47317344 0.39563038 0.52732067 0.5442009  0.46132512\n",
      " 0.51375136 0.50724488 0.5485693  0.39086308 0.53711953 0.50916482\n",
      " 0.41292352 0.53196453 0.5        0.40995354 0.48377425 0.47389235\n",
      " 0.50997093 0.5        0.45157931 0.51393698 0.48551804 0.40855662\n",
      " 0.53645559 0.5        0.52780839 0.447497   0.42955455 0.5\n",
      " 0.43293416 0.48702834 0.51291117 0.45281653 0.48369952 0.45694031\n",
      " 0.45668691 0.52641976 0.42917301 0.5        0.43876629 0.46462931\n",
      " 0.51569017 0.43172554 0.46262197 0.48362843 0.46556484 0.48739848\n",
      " 0.44381906 0.44404286 0.48050804 0.46462377 0.4212053  0.46597338\n",
      " 0.47504699 0.47644685 0.44264637 0.40579589]\n"
     ]
    }
   ],
   "source": [
    "#Best parameters for SVM: {'C': 1000, 'gamma': 'scale', 'kernel': 'linear'}\n",
    "\n",
    "#Train the model on historical data\n",
    "svm = SVC(C=1000, gamma='scale', kernel='linear', probability=True)\n",
    "svm.fit(X_train_scaled, y_train)\n",
    "\n",
    "#Apply the model to the new season data\n",
    "y_prob_new_season_svm = svm.predict_proba(X_new_season_full_scaled)[:, 1]\n",
    "y_pred_new_season_svm = (y_prob_new_season_svm > 0.5).astype(int)\n",
    "\n",
    "print(\"Predicted Probabilities for SVM in 2023 season:\")\n",
    "print(y_prob_new_season_svm)"
   ]
  },
  {
   "cell_type": "code",
   "execution_count": 105,
   "id": "5ff90eb9",
   "metadata": {},
   "outputs": [
    {
     "data": {
      "text/plain": [
       "array([0, 0, 0, 1, 1, 0, 1, 1, 1, 0, 1, 1, 0, 1, 0, 0, 0, 0, 1, 0, 0, 1,\n",
       "       0, 0, 1, 0, 1, 0, 0, 0, 0, 0, 1, 0, 0, 0, 0, 1, 0, 0, 0, 0, 1, 0,\n",
       "       0, 0, 0, 0, 0, 0, 0, 0, 0, 0, 0, 0, 0, 0])"
      ]
     },
     "execution_count": 105,
     "metadata": {},
     "output_type": "execute_result"
    }
   ],
   "source": [
    "y_pred_new_season_svm"
   ]
  },
  {
   "cell_type": "code",
   "execution_count": 106,
   "id": "437f00ef",
   "metadata": {},
   "outputs": [
    {
     "data": {
      "image/png": "[encoded data removed]",
      "text/plain": [
       "<Figure size 640x480 with 2 Axes>"
      ]
     },
     "metadata": {},
     "output_type": "display_data"
    },
    {
     "name": "stdout",
     "output_type": "stream",
     "text": [
      "Accuracy:\t0.344828\n",
      "F1-score:\t0.337740\n",
      "Precision:\t0.384496\n",
      "Recall:\t\t0.404118\n",
      "\n",
      "Classification performance:\n",
      "              precision    recall  f1-score   support\n",
      "\n",
      "           0       0.30      0.62      0.41        21\n",
      "           1       0.47      0.19      0.27        37\n",
      "\n",
      "    accuracy                           0.34        58\n",
      "   macro avg       0.38      0.40      0.34        58\n",
      "weighted avg       0.41      0.34      0.32        58\n",
      "\n"
     ]
    }
   ],
   "source": [
    "mat_svm = confusion_matrix(y_new_season_full, y_pred_new_season_svm)\n",
    "sns.heatmap(mat_svm.T, square=True, annot=True, fmt=\"d\", cmap=\"RdPu\")\n",
    "plt.xlabel(\"True label\")\n",
    "plt.ylabel(\"Predicted label\")\n",
    "plt.title(\"SVM\")\n",
    "plt.show()\n",
    "\n",
    "print(\"Accuracy:\\t%f\" % accuracy_score(y_new_season_full, y_pred_new_season_svm))\n",
    "print(\"F1-score:\\t%f\" % f1_score(y_new_season_full, y_pred_new_season_svm, average='macro'))\n",
    "print(\"Precision:\\t%f\" % precision_score(y_new_season_full, y_pred_new_season_svm, average='macro'))\n",
    "print(\"Recall:\\t\\t%f\" % recall_score(y_new_season_full, y_pred_new_season_svm, average='macro'))\n",
    "print(\"\\nClassification performance:\\n%s\" % classification_report(y_new_season_full, y_pred_new_season_svm))"
   ]
  },
  {
   "cell_type": "markdown",
   "id": "9aa49520",
   "metadata": {},
   "source": [
    "### 3. Deep Netural Networks"
   ]
  },
  {
   "cell_type": "code",
   "execution_count": 107,
   "id": "30d16521",
   "metadata": {},
   "outputs": [],
   "source": [
    "from keras.models import Sequential\n",
    "from keras.layers import Dense, Dropout\n",
    "from keras.wrappers.scikit_learn import KerasClassifier"
   ]
  },
  {
   "cell_type": "code",
   "execution_count": 108,
   "id": "7744fa18",
   "metadata": {},
   "outputs": [
    {
     "name": "stdout",
     "output_type": "stream",
     "text": [
      "2/2 [==============================] - 0s 971us/step\n",
      "DNN Model\n",
      "Predicted Probabilities in 2023 new season:\n",
      "[0.6960218  0.5420688  0.28988007 0.3951668  0.9387406  0.5774546\n",
      " 0.65514046 0.4949885  0.83663034 0.53395486 0.6943437  0.87262744\n",
      " 0.43718442 0.51006895 0.55750895 0.6285767  0.48912817 0.4039983\n",
      " 0.5454899  0.4333421  0.41050348 0.7217647  0.47882882 0.4098263\n",
      " 0.9424601  0.8976742  0.789129   0.571554   0.40883845 0.66201854\n",
      " 0.50303966 0.49387544 0.83633286 0.28698918 0.39703828 0.23329926\n",
      " 0.351877   0.8448614  0.35661545 0.7240012  0.45131877 0.39834213\n",
      " 0.71765196 0.4257146  0.42904374 0.44485706 0.27858073 0.51777476\n",
      " 0.3565858  0.22178306 0.46437347 0.28786013 0.22151193 0.6837665\n",
      " 0.6756104  0.43056396 0.40620828 0.35341883]\n"
     ]
    }
   ],
   "source": [
    "##Best parameters found:  {'activation': 'tanh', 'batch_size': 10, 'dropout_rate': 0.3, 'epochs': 100}\n",
    "\n",
    "# Define the model with the optimal parameters\n",
    "def create_model():\n",
    "    model = Sequential()\n",
    "    model.add(Dense(16, input_dim=11, activation='tanh'))\n",
    "    model.add(Dropout(0.3))\n",
    "    model.add(Dense(8, activation='relu'))\n",
    "    model.add(Dense(1, activation='sigmoid'))\n",
    "    model.compile(loss='binary_crossentropy', optimizer='adam', metrics=['accuracy'])\n",
    "    return model\n",
    "\n",
    "# Train the model on full historical data\n",
    "model = create_model()\n",
    "model.fit(X_train_scaled, y_train, epochs=100, batch_size=10, verbose=0)\n",
    "\n",
    "# Apply the model to the new season data\n",
    "y_prob_new_season_dnn = model.predict(X_new_season_full_scaled).flatten()\n",
    "y_pred_new_season_dnn = (y_prob_new_season_dnn > 0.5).astype(int)\n",
    "\n",
    "# Evaluate the model\n",
    "print(\"DNN Model\")\n",
    "print(\"Predicted Probabilities in 2023 new season:\")\n",
    "print(y_prob_new_season_dnn)"
   ]
  },
  {
   "cell_type": "code",
   "execution_count": 78,
   "id": "888727ec",
   "metadata": {},
   "outputs": [
    {
     "data": {
      "text/plain": [
       "array([1, 1, 0, 0, 1, 1, 1, 0, 1, 1, 1, 1, 0, 1, 1, 1, 0, 0, 1, 0, 0, 1,\n",
       "       0, 0, 1, 1, 1, 1, 0, 1, 1, 0, 1, 0, 0, 0, 0, 1, 0, 1, 0, 0, 1, 0,\n",
       "       0, 0, 0, 1, 0, 0, 0, 0, 0, 1, 1, 0, 0, 0])"
      ]
     },
     "execution_count": 78,
     "metadata": {},
     "output_type": "execute_result"
    }
   ],
   "source": [
    "y_pred_new_season_dnn"
   ]
  },
  {
   "cell_type": "code",
   "execution_count": 79,
   "id": "c2cd6bdb",
   "metadata": {},
   "outputs": [
    {
     "data": {
      "image/png": "[encoded data removed]",
      "text/plain": [
       "<Figure size 640x480 with 2 Axes>"
      ]
     },
     "metadata": {},
     "output_type": "display_data"
    },
    {
     "name": "stdout",
     "output_type": "stream",
     "text": [
      "Accuracy:\t0.448276\n",
      "F1-score:\t0.500000\n",
      "Precision:\t0.592593\n",
      "Recall:\t\t0.432432\n",
      "\n",
      "Classification performance:\n",
      "              precision    recall  f1-score   support\n",
      "\n",
      "           0       0.32      0.48      0.38        21\n",
      "           1       0.59      0.43      0.50        37\n",
      "\n",
      "    accuracy                           0.45        58\n",
      "   macro avg       0.46      0.45      0.44        58\n",
      "weighted avg       0.49      0.45      0.46        58\n",
      "\n"
     ]
    }
   ],
   "source": [
    "mat_dnn = confusion_matrix(y_new_season_full, y_pred_new_season_dnn)\n",
    "sns.heatmap(mat_dnn.T, square=True, annot=True, fmt='d', cmap='RdPu')\n",
    "plt.xlabel('True label')\n",
    "plt.ylabel('Predicted label')\n",
    "plt.title(\"DNN\")\n",
    "plt.show()\n",
    "\n",
    "print(\"Accuracy:\\t%f\" % accuracy_score(y_new_season_full, y_pred_new_season_dnn))\n",
    "print(\"F1-score:\\t%f\" % f1_score(y_new_season_full, y_pred_new_season_dnn))\n",
    "print(\"Precision:\\t%f\" % precision_score(y_new_season_full, y_pred_new_season_dnn))\n",
    "print(\"Recall:\\t\\t%f\" % recall_score(y_new_season_full, y_pred_new_season_dnn))\n",
    "print(\"\\nClassification performance:\\n%s\" % classification_report(y_new_season_full, y_pred_new_season_dnn))"
   ]
  },
  {
   "cell_type": "markdown",
   "id": "55b7e0e2",
   "metadata": {},
   "source": [
    "### 4. XGBoost（Extreme Gradient Boosting）"
   ]
  },
  {
   "cell_type": "code",
   "execution_count": 80,
   "id": "a255f0a4",
   "metadata": {},
   "outputs": [],
   "source": [
    "import xgboost as xgb"
   ]
  },
  {
   "cell_type": "code",
   "execution_count": 81,
   "id": "f6310f40",
   "metadata": {},
   "outputs": [
    {
     "name": "stderr",
     "output_type": "stream",
     "text": [
      "/Users/quinne/miniforge3/envs/tf/lib/python3.8/site-packages/xgboost/sklearn.py:1395: UserWarning: `use_label_encoder` is deprecated in 1.7.0.\n",
      "  warnings.warn(\"`use_label_encoder` is deprecated in 1.7.0.\")\n"
     ]
    },
    {
     "name": "stdout",
     "output_type": "stream",
     "text": [
      "\n",
      "Predicted Probabilities for XGBoost in 2023 new season:\n",
      "[0.9679244  0.11637567 0.22836205 0.80571574 0.9993742  0.28367734\n",
      " 0.39105505 0.5094134  0.8933483  0.23811534 0.23681039 0.2604938\n",
      " 0.2639336  0.22332898 0.39855036 0.04201724 0.16905102 0.76832104\n",
      " 0.49347425 0.5180785  0.5483742  0.87723213 0.20767274 0.3248076\n",
      " 0.9921794  0.9178355  0.44976315 0.4502639  0.3763735  0.9328116\n",
      " 0.10398223 0.38716146 0.99518025 0.02338092 0.14055471 0.02073693\n",
      " 0.11874721 0.9909662  0.0409755  0.9526677  0.2211289  0.10939077\n",
      " 0.92509973 0.6392551  0.702822   0.38946927 0.07912479 0.9814247\n",
      " 0.1999143  0.47456273 0.09206883 0.98199224 0.07218408 0.8679696\n",
      " 0.24008359 0.5403499  0.25474036 0.3401122 ]\n"
     ]
    }
   ],
   "source": [
    "#Best parameters for XGBoost: \n",
    "#{'colsample_bytree': 0.9, 'learning_rate': 0.1, 'max_depth': 7, 'n_estimators': 500, 'subsample': 0.7}\n",
    "\n",
    "xgb_model = xgb.XGBClassifier(\n",
    "    colsample_bytree=0.9, \n",
    "    learning_rate=0.1, \n",
    "    max_depth=7, \n",
    "    n_estimators=500, \n",
    "    subsample=0.7,\n",
    "    use_label_encoder=False\n",
    ")\n",
    "\n",
    "xgb_model.fit(X_train, y_train)\n",
    "\n",
    "y_prob_new_season_xgb = xgb_model.predict_proba(X_new_season_full)[:, 1]\n",
    "y_pred_new_season_xgb = (y_prob_new_season_xgb > 0.5).astype(int)\n",
    "\n",
    "# Step 3: Evaluate the model\n",
    "print(\"\\nPredicted Probabilities for XGBoost in 2023 new season:\")\n",
    "print(y_prob_new_season_xgb)"
   ]
  },
  {
   "cell_type": "code",
   "execution_count": 82,
   "id": "b1f6e1f2",
   "metadata": {},
   "outputs": [
    {
     "data": {
      "text/plain": [
       "array([1, 0, 0, 1, 1, 0, 0, 1, 1, 0, 0, 0, 0, 0, 0, 0, 0, 1, 0, 1, 1, 1,\n",
       "       0, 0, 1, 1, 0, 0, 0, 1, 0, 0, 1, 0, 0, 0, 0, 1, 0, 1, 0, 0, 1, 1,\n",
       "       1, 0, 0, 1, 0, 0, 0, 1, 0, 1, 0, 1, 0, 0])"
      ]
     },
     "execution_count": 82,
     "metadata": {},
     "output_type": "execute_result"
    }
   ],
   "source": [
    "y_pred_new_season_xgb"
   ]
  },
  {
   "cell_type": "code",
   "execution_count": 83,
   "id": "e4596c11",
   "metadata": {},
   "outputs": [
    {
     "data": {
      "image/png": "[encoded data removed]",
      "text/plain": [
       "<Figure size 640x480 with 2 Axes>"
      ]
     },
     "metadata": {},
     "output_type": "display_data"
    },
    {
     "name": "stdout",
     "output_type": "stream",
     "text": [
      "Accuracy:\t0.500000\n",
      "F1-score:\t0.508475\n",
      "Precision:\t0.681818\n",
      "Recall:\t\t0.405405\n",
      "\n",
      "Classification performance:\n",
      "              precision    recall  f1-score   support\n",
      "\n",
      "           0       0.39      0.67      0.49        21\n",
      "           1       0.68      0.41      0.51        37\n",
      "\n",
      "    accuracy                           0.50        58\n",
      "   macro avg       0.54      0.54      0.50        58\n",
      "weighted avg       0.58      0.50      0.50        58\n",
      "\n"
     ]
    }
   ],
   "source": [
    "mat_xgb = confusion_matrix(y_new_season_full, y_pred_new_season_xgb)\n",
    "sns.heatmap(mat_xgb.T, square=True, annot=True, fmt='d', cmap='RdPu')\n",
    "plt.xlabel('True label')\n",
    "plt.ylabel('Predicted label')\n",
    "plt.title(\"XGBoost\")\n",
    "plt.show()\n",
    "\n",
    "print(\"Accuracy:\\t%f\" % accuracy_score(y_new_season_full, y_pred_new_season_xgb))\n",
    "print(\"F1-score:\\t%f\" % f1_score(y_new_season_full, y_pred_new_season_xgb))\n",
    "print(\"Precision:\\t%f\" % precision_score(y_new_season_full, y_pred_new_season_xgb))\n",
    "print(\"Recall:\\t\\t%f\" % recall_score(y_new_season_full, y_pred_new_season_xgb))\n",
    "print(\"\\nClassification performance:\\n%s\" % classification_report(y_new_season_full, y_pred_new_season_xgb))"
   ]
  },
  {
   "cell_type": "markdown",
   "id": "09d83cc0",
   "metadata": {},
   "source": [
    "### 5. CatBoost "
   ]
  },
  {
   "cell_type": "code",
   "execution_count": 84,
   "id": "07e19165",
   "metadata": {},
   "outputs": [],
   "source": [
    "from catboost import CatBoostClassifier, Pool, cv\n",
    "import catboost as cb"
   ]
  },
  {
   "cell_type": "code",
   "execution_count": 85,
   "id": "c863ee31",
   "metadata": {},
   "outputs": [
    {
     "name": "stdout",
     "output_type": "stream",
     "text": [
      "(115, 12)\n"
     ]
    }
   ],
   "source": [
    "df_bat= pd.read_csv('/Users/quinne/Desktop/all_code/dissertation_dataset/halftime_dataframe_R.csv')\n",
    "df_bat\n",
    "\n",
    "columns_to_keep = ['Result', \"match_number\", \"team\", \"opponent\", \n",
    "                   \"gender\", 'season', 'home_advantage', 'venue_city',\n",
    "                   'avg_score', 'avg_win_rate', 'avg_wickets_out', 'last_match_result']\n",
    "df = df_bat[columns_to_keep]\n",
    "\n",
    "print(df.shape)"
   ]
  },
  {
   "cell_type": "code",
   "execution_count": 86,
   "id": "82690521",
   "metadata": {},
   "outputs": [
    {
     "name": "stdout",
     "output_type": "stream",
     "text": [
      "(58, 12)\n"
     ]
    }
   ],
   "source": [
    "df_2023_bat = pd.read_csv('/Users/quinne/Desktop/all_code/dissertation_dataset/prediction_set_halftime_model.csv')\n",
    "df_2023_bat\n",
    "\n",
    "columns_to_keep = ['Result', \"match_number\", \"team\", \"opponent\", \n",
    "                   \"gender\", 'season', 'home_advantage', 'venue_city',\n",
    "                   'avg_score', 'avg_win_rate', 'avg_wickets_out', 'last_match_result']\n",
    "df_2023 = df_2023_bat[columns_to_keep]\n",
    "\n",
    "print(df_2023.shape)"
   ]
  },
  {
   "cell_type": "code",
   "execution_count": 87,
   "id": "e8e6a927",
   "metadata": {},
   "outputs": [
    {
     "name": "stderr",
     "output_type": "stream",
     "text": [
      "/var/folders/1v/gbft9lh97dggng6ytnnwkd9c0000gn/T/ipykernel_49194/2519307901.py:2: SettingWithCopyWarning: \n",
      "A value is trying to be set on a copy of a slice from a DataFrame.\n",
      "Try using .loc[row_indexer,col_indexer] = value instead\n",
      "\n",
      "See the caveats in the documentation: https://pandas.pydata.org/pandas-docs/stable/user_guide/indexing.html#returning-a-view-versus-a-copy\n",
      "  df['Result'] = df['Result'].apply(lambda x: 1 if x == 'win' else 0)\n",
      "/var/folders/1v/gbft9lh97dggng6ytnnwkd9c0000gn/T/ipykernel_49194/2519307901.py:3: SettingWithCopyWarning: \n",
      "A value is trying to be set on a copy of a slice from a DataFrame.\n",
      "Try using .loc[row_indexer,col_indexer] = value instead\n",
      "\n",
      "See the caveats in the documentation: https://pandas.pydata.org/pandas-docs/stable/user_guide/indexing.html#returning-a-view-versus-a-copy\n",
      "  df_2023['Result'] = df_2023['Result'].apply(lambda x: 1 if x == 'win' else 0)\n"
     ]
    }
   ],
   "source": [
    "# Transforming the 'Result' column to binary format\n",
    "df['Result'] = df['Result'].apply(lambda x: 1 if x == 'win' else 0)\n",
    "df_2023['Result'] = df_2023['Result'].apply(lambda x: 1 if x == 'win' else 0)\n",
    "\n",
    "# Splitting the data into X (features) and y (target)\n",
    "X = df.drop(columns=['Result'])\n",
    "y = df['Result']\n",
    "\n",
    "X_new_season = df_2023.drop(columns=['Result'])\n",
    "y_new_season = df_2023['Result']\n",
    "\n",
    "# List of categorical features\n",
    "cat_features = [\n",
    "    'team', 'opponent', 'gender', 'home_advantage', 'venue_city', 'last_match_result'\n",
    "]"
   ]
  },
  {
   "cell_type": "code",
   "execution_count": 88,
   "id": "1006b070",
   "metadata": {},
   "outputs": [
    {
     "name": "stdout",
     "output_type": "stream",
     "text": [
      "\n",
      "Predicted Probabilities for CatBoost in 2023 new season:\n",
      "[1.79081668e-01 4.64396432e-01 7.45420048e-02 3.04251240e-01\n",
      " 9.99528128e-01 3.67028035e-02 8.44140101e-02 5.95062542e-01\n",
      " 9.98714246e-01 2.44299720e-02 5.43469247e-01 2.31749904e-01\n",
      " 4.41088729e-02 3.32247420e-01 8.37126100e-01 9.15444447e-02\n",
      " 3.74393174e-01 8.79609872e-01 8.39229358e-01 4.82669126e-01\n",
      " 6.04349398e-01 8.90009558e-01 1.27104871e-01 2.01745950e-01\n",
      " 9.91353035e-01 9.43415797e-01 5.80775234e-01 8.68432244e-02\n",
      " 6.14682919e-01 3.66077582e-01 1.60444999e-01 8.61141149e-01\n",
      " 9.99376453e-01 6.90297523e-03 6.22821615e-01 3.59067078e-04\n",
      " 3.39167642e-01 9.97364292e-01 7.93833028e-01 8.99649573e-01\n",
      " 3.00413828e-02 7.26185364e-01 4.60871273e-01 9.95373355e-01\n",
      " 9.94990530e-01 3.82940241e-03 1.37855798e-01 9.78510305e-01\n",
      " 8.53091146e-01 4.18022205e-01 8.84921913e-01 9.62419954e-01\n",
      " 1.18577603e-01 9.64099402e-01 1.02732037e-01 5.98951602e-01\n",
      " 2.75338147e-01 2.46806065e-01]\n"
     ]
    }
   ],
   "source": [
    "#Best parameters for CatBoost:  {'depth': 5, 'l2_leaf_reg': 1, 'iterations': 500, 'learning_rate': 0.1}\n",
    "\n",
    "model = CatBoostClassifier(\n",
    "    depth=5, \n",
    "    l2_leaf_reg=1, \n",
    "    iterations=500, \n",
    "    learning_rate=0.1,\n",
    "    cat_features=cat_features,\n",
    "    verbose=0  \n",
    ")\n",
    "model.fit(X, y)\n",
    "\n",
    "y_prob_new_season_catboost = model.predict_proba(X_new_season)[:, 1]\n",
    "y_pred_new_season_catboost = (y_prob_new_season_catboost > 0.5).astype(int)\n",
    "\n",
    "print(\"\\nPredicted Probabilities for CatBoost in 2023 new season:\")\n",
    "print(y_prob_new_season_catboost)"
   ]
  },
  {
   "cell_type": "code",
   "execution_count": 89,
   "id": "552ed99d",
   "metadata": {},
   "outputs": [
    {
     "data": {
      "text/plain": [
       "array([0, 0, 0, 0, 1, 0, 0, 1, 1, 0, 1, 0, 0, 0, 1, 0, 0, 1, 1, 0, 1, 1,\n",
       "       0, 0, 1, 1, 1, 0, 1, 0, 0, 1, 1, 0, 1, 0, 0, 1, 1, 1, 0, 1, 0, 1,\n",
       "       1, 0, 0, 1, 1, 0, 1, 1, 0, 1, 0, 1, 0, 0])"
      ]
     },
     "execution_count": 89,
     "metadata": {},
     "output_type": "execute_result"
    }
   ],
   "source": [
    "y_pred_new_season_catboost"
   ]
  },
  {
   "cell_type": "code",
   "execution_count": 90,
   "id": "4a6fe4d5",
   "metadata": {},
   "outputs": [
    {
     "data": {
      "image/png": "[encoded data removed]",
      "text/plain": [
       "<Figure size 640x480 with 2 Axes>"
      ]
     },
     "metadata": {},
     "output_type": "display_data"
    },
    {
     "name": "stdout",
     "output_type": "stream",
     "text": [
      "Accuracy:\t0.568966\n",
      "F1-score:\t0.615385\n",
      "Precision:\t0.714286\n",
      "Recall:\t\t0.540541\n",
      "\n",
      "Classification performance:\n",
      "              precision    recall  f1-score   support\n",
      "\n",
      "           0       0.43      0.62      0.51        21\n",
      "           1       0.71      0.54      0.62        37\n",
      "\n",
      "    accuracy                           0.57        58\n",
      "   macro avg       0.57      0.58      0.56        58\n",
      "weighted avg       0.61      0.57      0.58        58\n",
      "\n"
     ]
    }
   ],
   "source": [
    "mat_catboost = confusion_matrix(y_new_season, y_pred_new_season_catboost)\n",
    "sns.heatmap(mat_catboost.T, square=True, annot=True, fmt='d', cmap='RdPu')\n",
    "plt.xlabel('True label')\n",
    "plt.ylabel('Predicted label')\n",
    "plt.title(\"CatBoost\")\n",
    "plt.show()\n",
    "\n",
    "print(\"Accuracy:\\t%f\" % accuracy_score(y_new_season, y_pred_new_season_catboost))\n",
    "print(\"F1-score:\\t%f\" % f1_score(y_new_season, y_pred_new_season_catboost))\n",
    "print(\"Precision:\\t%f\" % precision_score(y_new_season, y_pred_new_season_catboost))\n",
    "print(\"Recall:\\t\\t%f\" % recall_score(y_new_season, y_pred_new_season_catboost))\n",
    "print(\"\\nClassification performance:\\n%s\" % classification_report(y_new_season, y_pred_new_season_catboost))"
   ]
  }
 ],
 "metadata": {
  "kernelspec": {
   "display_name": "Python 3 (ipykernel)",
   "language": "python",
   "name": "python3"
  },
  "language_info": {
   "codemirror_mode": {
    "name": "ipython",
    "version": 3
   },
   "file_extension": ".py",
   "mimetype": "text/x-python",
   "name": "python",
   "nbconvert_exporter": "python",
   "pygments_lexer": "ipython3",
   "version": "3.8.10"
  }
 },
 "nbformat": 4,
 "nbformat_minor": 5
}
